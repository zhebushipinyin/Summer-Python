{
 "cells": [
  {
   "cell_type": "markdown",
   "metadata": {},
   "source": [
    "# 小学期·爬虫笔记（二）"
   ]
  },
  {
   "cell_type": "markdown",
   "metadata": {},
   "source": [
    "前面已经得到了爬取豆瓣电视剧的方法，现在考虑把完整的程序写出来，并把结果写入表格之中\n",
    "<div class=\"alert alert-info\">\n",
    "<strong>xlwt</strong>是一个python第三方库，可以将文本写入excel文件中\n",
    "</div>"
   ]
  },
  {
   "cell_type": "code",
   "execution_count": 1,
   "metadata": {},
   "outputs": [],
   "source": [
    "# -*- coding:utf-8 -*-\n",
    "import requests\n",
    "import xlwt"
   ]
  },
  {
   "cell_type": "code",
   "execution_count": 2,
   "metadata": {},
   "outputs": [],
   "source": [
    "# 链接获取函数\n",
    "def get_url(sort, range_1, range_2, start, n):\n",
    "    url = []\n",
    "    for i in range(n):\n",
    "        urli = \" https://movie.douban.com/j/new_search_subjects?sort=%s&range=%s,%s&tags=%%E7%%94%%B5%%E8%%A7%%86%%E5%%89%%A7&start=%s\" % (sort, range_1, range_2, 20*i)\n",
    "        url.append(urli)\n",
    "    return url"
   ]
  },
  {
   "cell_type": "code",
   "execution_count": 3,
   "metadata": {},
   "outputs": [],
   "source": [
    "# 请求参数\n",
    "qs = {\"sort\":[\"s\",\"r\",\"t\"],\n",
    "      \"range\":[\"0\",\"1\",\"2\",\"3\",\"4\",\"5\",\"6\",\"7\",\"8\",\"9\",\"10\"],\n",
    "      \"tags\":[],\n",
    "      \"start\":[\"0\"]}"
   ]
  },
  {
   "cell_type": "code",
   "execution_count": 6,
   "metadata": {},
   "outputs": [],
   "source": [
    "# 先试一下\n",
    "url = get_url(qs[\"sort\"][0], qs[\"range\"][8], qs[\"range\"][10], qs[\"start\"][0], 10)"
   ]
  },
  {
   "cell_type": "code",
   "execution_count": 12,
   "metadata": {},
   "outputs": [],
   "source": [
    "result = []\n",
    "for each_url in url:\n",
    "    r = requests.get(each_url)\n",
    "    result1 = r.json()\n",
    "    result += result1[\"data\"]"
   ]
  },
  {
   "cell_type": "code",
   "execution_count": null,
   "metadata": {},
   "outputs": [],
   "source": [
    "for each in result:\n",
    "    print(each[\"title\"], each[\"rate\"], each[\"star\"], each[\"url\"])"
   ]
  },
  {
   "cell_type": "markdown",
   "metadata": {},
   "source": [
    "运行上面的代码，可以看到爬虫的结果，现在考虑爬取100页，写入文本文件"
   ]
  },
  {
   "cell_type": "code",
   "execution_count": 92,
   "metadata": {},
   "outputs": [
    {
     "name": "stdout",
     "output_type": "stream",
     "text": [
      "done\n"
     ]
    }
   ],
   "source": [
    "url = get_url(qs[\"sort\"][0], qs[\"range\"][8], qs[\"range\"][10], qs[\"start\"][0], 100)\n",
    "result = []\n",
    "i = 0\n",
    "for each_url in url:\n",
    "    r = requests.get(each_url)\n",
    "    result1 = r.json()\n",
    "    result += result1[\"data\"]\n",
    "    i += 1\n",
    "    # print(\"running %s\" % i)\n",
    "with open(\"movie_100.txt\", \"a\", encoding = \"utf-8\") as f:\n",
    "    f.write(\"标题\"+\",\"+\"导演\"+\",\"+\"评分\"+\",\"+\"链接\\n\")\n",
    "    for each in result:\n",
    "        try:\n",
    "            directors = each[\"directors\"][0]\n",
    "        except:\n",
    "            directors = \"无\"\n",
    "        f.write(each[\"title\"] + \",\" +directors + \",\" + each[\"rate\"] + \",\" + each[\"url\"]+\"\\n\")\n",
    "print(\"done\")"
   ]
  },
  {
   "cell_type": "markdown",
   "metadata": {},
   "source": [
    "下面考虑将评分8~10之内前一万的电视剧写入表格之中"
   ]
  },
  {
   "cell_type": "code",
   "execution_count": null,
   "metadata": {},
   "outputs": [],
   "source": [
    "url = get_url(qs[\"sort\"][0], qs[\"range\"][8], qs[\"range\"][10], qs[\"start\"][0], 500)\n",
    "result = []\n",
    "i = 0\n",
    "\n",
    "for each_url in url:\n",
    "    r = requests.get(each_url)\n",
    "    result1 = r.json()\n",
    "    result += result1[\"data\"]\n",
    "    i += 1\n",
    "    # print(\"running %s\" % i)\n",
    "    if i in [x*500 for x in range(20)]:\n",
    "    print(\"running%s\"%i)\n",
    "\n",
    "    # 建立表格\n",
    "exel = xlwt.Workbook(encoding = 'utf-8')\n",
    "sheet = exel.add_sheet(\"电视剧\")\n",
    "sheet.write(0,0,\"标题\")\n",
    "sheet.write(0,1,\"导演\")\n",
    "sheet.write(0,2,\"评分\")\n",
    "sheet.write(0,3,\"url\")\n",
    "\n",
    "for i in range(len(result)):\n",
    "    each = result[i]\n",
    "    try:\n",
    "        directors = each[\"directors\"][0]\n",
    "    except:\n",
    "        directors = \"无\"\n",
    "    sheet.write(i+1,0,each[\"title\"])\n",
    "    sheet.write(i+1,1,directors)\n",
    "    sheet.write(i+1,2,each[\"rate\"])\n",
    "    sheet.write(i+1,3,each[\"url\"])\n",
    "exel.save('豆瓣电视剧top2000.xls')\n",
    "print(\"done\")"
   ]
  },
  {
   "cell_type": "markdown",
   "metadata": {},
   "source": [
    "<div class=\"alert alert-success\" role=\"alert\">运行上面的代码，可以得到一个excel表格，结果中包含了电影名、导演、评分及链接，根据链接可以进一步利用beautifulsoup爬取更多内容</div>\n",
    "<img src=\"image\\3-1.png\" width=\"900\" align=center />"
   ]
  },
  {
   "cell_type": "markdown",
   "metadata": {},
   "source": []
  }
 ],
 "metadata": {
  "kernelspec": {
   "display_name": "Python 3",
   "language": "python",
   "name": "python3"
  },
  "language_info": {
   "codemirror_mode": {
    "name": "ipython",
    "version": 3
   },
   "file_extension": ".py",
   "mimetype": "text/x-python",
   "name": "python",
   "nbconvert_exporter": "python",
   "pygments_lexer": "ipython3",
   "version": "3.5.4"
  }
 },
 "nbformat": 4,
 "nbformat_minor": 2
}
