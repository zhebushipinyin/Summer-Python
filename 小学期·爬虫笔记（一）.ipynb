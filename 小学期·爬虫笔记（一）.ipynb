{
 "cells": [
  {
   "cell_type": "markdown",
   "metadata": {},
   "source": [
    "# 小学期·爬虫笔记（一）"
   ]
  },
  {
   "cell_type": "markdown",
   "metadata": {},
   "source": [
    "## 终极目标：爬取豆瓣的电视剧"
   ]
  },
  {
   "cell_type": "markdown",
   "metadata": {},
   "source": [
    "<div class=\"alert alert-info\">\n",
    "<strong>目标</strong>：学习将网页爬下来并处理\n",
    "</div>"
   ]
  },
  {
   "cell_type": "markdown",
   "metadata": {},
   "source": [
    "### urllib库"
   ]
  },
  {
   "cell_type": "markdown",
   "metadata": {},
   "source": [
    "在Python3.x中，我们可以使用 **urllib** 这个组件抓取网页，urllib是一个URL处理包，这个包中集合了一些处理URL的模块：\n",
    "* urllib.request：用来打开和读取URL\n",
    "* urllib.error：包含一些urllib.request产生的错误，可以用try进行捕捉处理\n",
    "* urllib.parse：包含了一些解析URLs的方法\n",
    "* urllib.robotparser：用来解析robots.txt文本文件。它提供了一个单独的RobotFileParser类，通过该类提供的can_fetch()方法测试爬虫是否可以下载一个页面"
   ]
  },
  {
   "cell_type": "markdown",
   "metadata": {},
   "source": [
    "#### urllib.request"
   ]
  },
  {
   "cell_type": "code",
   "execution_count": 1,
   "metadata": {},
   "outputs": [],
   "source": [
    "# 载入库\n",
    "from urllib import request\n",
    "from urllib import error"
   ]
  },
  {
   "cell_type": "markdown",
   "metadata": {},
   "source": [
    "可以用**help(request)**来查看request的用法\n",
    "* 可以用request.urlopen()\n",
    "* 相比于直接用urlopen打开url，Reuqest类能够构建更为完善的请求\n",
    "* 用request.Request()来构建网页请求"
   ]
  },
  {
   "cell_type": "code",
   "execution_count": 2,
   "metadata": {},
   "outputs": [],
   "source": [
    "#  打开豆瓣页面，以Rick and Mroity为例\n",
    "#  url = \"https://movie.douban.com/subject/11537954/\"\n",
    "url = \"https://movie.douban.com/subject/11537954/\"\n",
    "req = request.Request(url)\n",
    "try:\n",
    "    response = request.urlopen(req)\n",
    "except error.URLError as e:\n",
    "    print(e.reason)\n",
    "    \n",
    "#  读取主页（read）并解码（decode）\n",
    "douban_html = response.read()\n",
    "douban_html = douban_html.decode(\"utf-8\")"
   ]
  },
  {
   "cell_type": "markdown",
   "metadata": {},
   "source": [
    "<div class=\"alert alert-success\" role=\"alert\">用 print(douban_html) 查看结果</div>"
   ]
  },
  {
   "cell_type": "code",
   "execution_count": null,
   "metadata": {},
   "outputs": [],
   "source": [
    "# your code here"
   ]
  },
  {
   "cell_type": "markdown",
   "metadata": {},
   "source": [
    "### Requests库"
   ]
  },
  {
   "cell_type": "markdown",
   "metadata": {},
   "source": [
    "Requests库是基于urllib编写的http库，比urllib更加的简洁、易读，[Requests官方文档](http://docs.python-requests.org/zh_CN/latest/user/quickstart.html)"
   ]
  },
  {
   "cell_type": "code",
   "execution_count": 3,
   "metadata": {},
   "outputs": [],
   "source": [
    "import requests"
   ]
  },
  {
   "cell_type": "markdown",
   "metadata": {},
   "source": [
    "HTML请求类型**get**，**post**，**put**，**delete**，**head**，**options**\n",
    "* 用**requests.get()**获取某个网页"
   ]
  },
  {
   "cell_type": "code",
   "execution_count": 4,
   "metadata": {},
   "outputs": [],
   "source": [
    "#  打开豆瓣页面\n",
    "url = \"https://movie.douban.com/subject/11537954/\"\n",
    "r = requests.get(url)"
   ]
  },
  {
   "cell_type": "markdown",
   "metadata": {},
   "source": [
    "* r.encoding获取编码信息\n",
    "* r.content获取编码\n",
    "* r.text文本内容"
   ]
  },
  {
   "cell_type": "code",
   "execution_count": null,
   "metadata": {},
   "outputs": [],
   "source": [
    "# your coode here"
   ]
  },
  {
   "cell_type": "markdown",
   "metadata": {},
   "source": [
    "***\n",
    "## 对得到的页面结果进行处理"
   ]
  },
  {
   "cell_type": "markdown",
   "metadata": {},
   "source": [
    "### BeautifulSoup库\n",
    "BeautifulSoup是一个可以从HTML或XML文件中提取数据的Python库.[官方文档](https://www.crummy.com/software/BeautifulSoup/bs4/doc/index.zh.html)"
   ]
  },
  {
   "cell_type": "code",
   "execution_count": 5,
   "metadata": {},
   "outputs": [],
   "source": [
    "from bs4 import BeautifulSoup"
   ]
  },
  {
   "cell_type": "code",
   "execution_count": 6,
   "metadata": {},
   "outputs": [],
   "source": [
    "#  传递爬取的豆瓣主页\n",
    "soup = BeautifulSoup(douban_html,\"lxml\")"
   ]
  },
  {
   "cell_type": "markdown",
   "metadata": {},
   "source": [
    "用 soup.head来查看文档head\n",
    "* douban_head = soup.head"
   ]
  },
  {
   "cell_type": "markdown",
   "metadata": {},
   "source": [
    "用soup.head.contents查看head的所有子节点\n",
    "* print(douban_head.meta)"
   ]
  },
  {
   "cell_type": "markdown",
   "metadata": {},
   "source": [
    "用**find_all()**查找想要的文档内容：\n",
    "``` python\n",
    "for tag in soup.find_all(True):\n",
    "    print(tag.name)\n",
    "```\n",
    "也可通过正则表达式来精确查找"
   ]
  },
  {
   "cell_type": "code",
   "execution_count": 7,
   "metadata": {},
   "outputs": [
    {
     "data": {
      "text/plain": [
       "[<p class=\"appintro-title\">豆瓣</p>, <p class=\"qrcode\">扫码直接下载</p>, <p class=\"\">\n",
       " <span class=\"short\">5.0。1.第三集人体内部之旅好宏大，巨型男体悬浮美利坚，顶住洛杉基。2.宅人体里的鼹鼠，开肠破肚掏糖果，克隆伯格怪物梗，这些平行宇宙都迷幻得令人兴奋。3.大面积科幻脑洞逼迫我想出一个吃声音迎接末日的故事。</span>\n",
       " </p>, <p class=\"\">\n",
       " <span class=\"short\">好好看啊好好看啊！！！！！看到制作人竟然是Dan Harmon果然啊妈呀！！！！哈哈哈哈哈哈哈哈哈哈哈！Awww Biiitch, i dunno what to say..哈哈哈哈</span>\n",
       " </p>, <p class=\"\">\n",
       " <span class=\"short\">这是我今年看过的最好的东西之一，在A站配着弹幕看，效果类似跑步、抽大麻，喝威士忌，睡漂亮小姑娘，专治抑郁和偏头痛。</span>\n",
       " </p>, <p class=\"\">\n",
       " <span class=\"short\">用屎尿屁的方式站在了碾压星际穿越盗梦空间的智商上热爱着这个缤纷血腥的世界。/9.2/第十集的结尾一定要好好想哦...</span>\n",
       " </p>, <p class=\"\">\n",
       " <span class=\"short\">有残暴恶趣味，有精彩反转，还有Rick Dance！惨了突然很期待有人把Rick Dance搬到广场舞上。《Futurama》之后最牛的科幻卡通剧集</span>\n",
       " </p>, <p class=\"spoiler-tip\">这篇剧评可能有剧透</p>, <p class=\"spoiler-tip\">这篇剧评可能有剧透</p>, <p class=\"spoiler-tip\">这篇剧评可能有剧透</p>, <p class=\"spoiler-tip\">这篇剧评可能有剧透</p>, <p class=\"pl\">\n",
       "                 &gt;\n",
       "                 <a href=\"reviews\">\n",
       "                     更多剧评77篇\n",
       "                 </a>\n",
       " </p>, <p class=\"discussion_link\">\n",
       " <a href=\"https://movie.douban.com/subject/11537954/tv_discuss\">&gt; 查看 瑞克和莫蒂 第一季 的分集短评（全部382条）</a>\n",
       " </p>, <p class=\"pl\">订阅瑞克和莫蒂 第一季的影评: <br/><span class=\"feed\">\n",
       " <a href=\"https://movie.douban.com/feed/subject/11537954/reviews\"> feed: rss 2.0</a></span></p>]"
      ]
     },
     "execution_count": 7,
     "metadata": {},
     "output_type": "execute_result"
    }
   ],
   "source": [
    "#  正则表达式\n",
    "import re\n",
    "#  找到所有以p为开头的标签\n",
    "tag = soup.find_all(re.compile(\"^p\"))\n",
    "tag"
   ]
  },
  {
   "cell_type": "markdown",
   "metadata": {},
   "source": [
    "**find_all()**参数：find_all( name , attrs , recursive , text , **kwargs )"
   ]
  },
  {
   "cell_type": "markdown",
   "metadata": {},
   "source": [
    "* name参数可查找所有tag为name的项目\n",
    "* 对于其他关键词，可以进行指定以搜索，如find_all(id = 'info')，查找所有id为info的项目，herf = \"\"，查找链接为....\n",
    "* 对于class，由于其为python保留字，搜索时应使用class_ = “xx”\n",
    "* text，查找文本\n",
    "* recursive，是否递归查找，默认为True"
   ]
  },
  {
   "cell_type": "code",
   "execution_count": 8,
   "metadata": {},
   "outputs": [
    {
     "name": "stdout",
     "output_type": "stream",
     "text": [
      "<div id=\"info\">\n",
      "<span><span class=\"pl\">导演</span>: <span class=\"attrs\"><a href=\"/celebrity/1344761/\" rel=\"v:directedBy\">贾斯汀·罗兰</a></span></span><br/>\n",
      "<span><span class=\"pl\">编剧</span>: <span class=\"attrs\"><a href=\"/celebrity/1344761/\">贾斯汀·罗兰</a> / <a href=\"/celebrity/1306169/\">丹·哈萌</a></span></span><br/>\n",
      "<span class=\"actor\"><span class=\"pl\">主演</span>: <span class=\"attrs\"><a href=\"/celebrity/1344761/\" rel=\"v:starring\">贾斯汀·罗兰</a> / <a href=\"/celebrity/1113456/\" rel=\"v:starring\">汤姆·肯尼</a> / <a href=\"/celebrity/1004763/\" rel=\"v:starring\">克里斯·帕内尔</a> / <a href=\"/celebrity/1027277/\" rel=\"v:starring\">斯宾瑟·格拉默</a> / <a href=\"/celebrity/1049516/\" rel=\"v:starring\">萨拉·乔克</a> / <a href=\"/celebrity/1326196/\" rel=\"v:starring\">凯瑞·华格伦</a></span></span><br/>\n",
      "<span class=\"pl\">类型:</span> <span property=\"v:genre\">动画</span><br/>\n",
      "<span class=\"pl\">官方网站:</span> <a href=\"http://www.rickandmorty.com\" rel=\"nofollow\" target=\"_blank\">www.rickandmorty.com</a><br/>\n",
      "<span class=\"pl\">制片国家/地区:</span> 美国<br/>\n",
      "<span class=\"pl\">语言:</span> 英语<br/>\n",
      "<span class=\"pl\">首播:</span> <span content=\"2013-12-02(美国)\" property=\"v:initialReleaseDate\">2013-12-02(美国)</span><br/>\n",
      "<span class=\"pl\">季数:</span> <select id=\"season\"><option selected=\"selected\" value=\"11537954\">1</option><option value=\"25865470\">2</option><option value=\"26592971\">3</option><option value=\"27166039\">4</option></select><br/>\n",
      "<span class=\"pl\">集数:</span> 11<br/>\n",
      "<span class=\"pl\">单集片长:</span> 22分钟<br/>\n",
      "<span class=\"pl\">又名:</span> 瑞奇和莫迪 / 瑞克与莫蒂<br/>\n",
      "<span class=\"pl\">IMDb链接:</span> <a href=\"http://www.imdb.com/title/tt2861424\" rel=\"nofollow\" target=\"_blank\">tt2861424</a><br/>\n",
      "</div>\n"
     ]
    }
   ],
   "source": [
    "for item in soup.body.find_all(id=\"info\",recursive=True):\n",
    "    print(item)"
   ]
  },
  {
   "cell_type": "markdown",
   "metadata": {},
   "source": [
    "上面即为该剧所有id为info的片段，可以看出，这个就是我们要找的电影的详细内容"
   ]
  },
  {
   "cell_type": "markdown",
   "metadata": {},
   "source": [
    "### 提取信息及写入文件"
   ]
  },
  {
   "cell_type": "markdown",
   "metadata": {},
   "source": [
    "分析网页源码，得到了如上包含电影信息的代码，接下来需要提取代码中的文本信息"
   ]
  },
  {
   "cell_type": "code",
   "execution_count": 16,
   "metadata": {},
   "outputs": [],
   "source": [
    "# 获取信息的源码\n",
    "info_html = soup.body.find(id=\"info\",recursive=True)"
   ]
  },
  {
   "cell_type": "code",
   "execution_count": 20,
   "metadata": {},
   "outputs": [
    {
     "name": "stdout",
     "output_type": "stream",
     "text": [
      "\n",
      "导演: 贾斯汀·罗兰\n",
      "编剧: 贾斯汀·罗兰 / 丹·哈萌\n",
      "主演: 贾斯汀·罗兰 / 汤姆·肯尼 / 克里斯·帕内尔 / 斯宾瑟·格拉默 / 萨拉·乔克 / 凯瑞·华格伦\n",
      "类型: 动画\n",
      "官方网站: www.rickandmorty.com\n",
      "制片国家/地区: 美国\n",
      "语言: 英语\n",
      "首播: 2013-12-02(美国)\n",
      "季数: 1234\n",
      "集数: 11\n",
      "单集片长: 22分钟\n",
      "又名: 瑞奇和莫迪 / 瑞克与莫蒂\n",
      "IMDb链接: tt2861424\n",
      "\n"
     ]
    }
   ],
   "source": [
    "# 获得文本\n",
    "info_text = info_html.text\n",
    "print(info_text)"
   ]
  },
  {
   "cell_type": "code",
   "execution_count": 29,
   "metadata": {},
   "outputs": [
    {
     "name": "stdout",
     "output_type": "stream",
     "text": [
      "['导演: 贾斯汀·罗兰', '编剧: 贾斯汀·罗兰 / 丹·哈萌', '主演: 贾斯汀·罗兰 / 汤姆·肯尼 / 克里斯·帕内尔 / 斯宾瑟·格拉默 / 萨拉·乔克 / 凯瑞·华格伦', '类型: 动画', '官方网站: www.rickandmorty.com', '制片国家/地区: 美国', '语言: 英语', '首播: 2013-12-02(美国)', '季数: 1234', '集数: 11', '单集片长: 22分钟', '又名: 瑞奇和莫迪 / 瑞克与莫蒂', 'IMDb链接: tt2861424']\n"
     ]
    }
   ],
   "source": [
    "# 去除文本两端的空格\n",
    "doc = info_text.strip( )\n",
    "\n",
    "# 将文本按'\\n'分段，放入列表中\n",
    "doc_list = doc.split('\\n')\n",
    "print(doc_list)"
   ]
  },
  {
   "cell_type": "markdown",
   "metadata": {},
   "source": [
    "得到装有信息的列表后，可以将其写入表格中（略去）"
   ]
  },
  {
   "cell_type": "markdown",
   "metadata": {},
   "source": [
    "目前为止，已经得到了将豆瓣电影中单个页面包含的电影信息提取的方法，解下来需要考虑如何爬去豆瓣电影中的所有内容"
   ]
  },
  {
   "cell_type": "code",
   "execution_count": null,
   "metadata": {},
   "outputs": [],
   "source": []
  }
 ],
 "metadata": {
  "kernelspec": {
   "display_name": "Python 3",
   "language": "python",
   "name": "python3"
  },
  "language_info": {
   "codemirror_mode": {
    "name": "ipython",
    "version": 3
   },
   "file_extension": ".py",
   "mimetype": "text/x-python",
   "name": "python",
   "nbconvert_exporter": "python",
   "pygments_lexer": "ipython3",
   "version": "3.5.4"
  }
 },
 "nbformat": 4,
 "nbformat_minor": 2
}
