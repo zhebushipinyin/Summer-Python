{
 "cells": [
  {
   "cell_type": "markdown",
   "metadata": {},
   "source": [
    "# 小学期·爬虫笔记（二）"
   ]
  },
  {
   "cell_type": "markdown",
   "metadata": {},
   "source": [
    "### 分析网页"
   ]
  },
  {
   "cell_type": "markdown",
   "metadata": {},
   "source": [
    "豆瓣提供了标签功能用以搜索电影，如搜索电视剧便可以使用tag [“电视剧”](https://movie.douban.com/tag/#/?sort=S&range=0,10&tags=%E7%94%B5%E8%A7%86%E5%89%A7)"
   ]
  },
  {
   "cell_type": "markdown",
   "metadata": {},
   "source": [
    "<img src=\"image\\2-1.PNG\" width=\"800\" hegiht=\"300\" align=center />"
   ]
  },
  {
   "cell_type": "markdown",
   "metadata": {},
   "source": [
    "如上界面，可以看到，除了tag之外，还有评分区间等诸多筛选条件，每个条目有图片、名称及评分。由于每一页显示的范围有限，因此需要我们点击下一页来加载更多的内容，可以考虑打开开发者工具来观察点击加载时调用资源的变化，来找到查找的接口"
   ]
  },
  {
   "cell_type": "markdown",
   "metadata": {},
   "source": [
    "![开发者工具-netsource](image\\2-2.png)"
   ]
  },
  {
   "cell_type": "markdown",
   "metadata": {},
   "source": [
    "可以看到，网页发送了一个名为“ https://movie.douban.com/j/new_search_subjects?sort=S&range=0,10&tags=%E7%94%B5%E8%A7%86%E5%89%A7&start=0” 的请求连接，再往下看它的请求参数 ![请求参数](image\\2-3.png)"
   ]
  },
  {
   "cell_type": "markdown",
   "metadata": {},
   "source": [
    "这里面包含了一些参数：\n",
    "* sort是排序方式，s代表按评分排序，同样的还有时间R和热度T\n",
    "* range是分数范围，0,10表示评分区间为0-10的电影，同理0，5表示评分为5分以下的电影\n",
    "* tags就是标签了，想要多个标签就在后面加逗号，如 “tags=电视剧,励志”，就表示标签为电视剧和励志\n",
    "* start指起点，0就表示从头开始搜索，显示20个，20就表示从20开始，搜到39"
   ]
  },
  {
   "cell_type": "markdown",
   "metadata": {},
   "source": [
    "我们试下，把参数输入到链接中：https://movie.douban.com/j/new_search_subjects?sort=S&range=0,10&tags=%E7%94%B5%E8%A7%86%E5%89%A7&start=10 得到了如下的东西：![](image\\2-4.png)"
   ]
  },
  {
   "cell_type": "markdown",
   "metadata": {},
   "source": [
    "这个，便是用JSON存储的信息。可以看到，里面包含了：\n",
    "* directors：导演\n",
    "* rate：评分\n",
    "* title：标题\n",
    "* url：电影链接\n",
    "* casts：主演\n",
    "* cover：海报\n",
    "* id：编号"
   ]
  },
  {
   "cell_type": "markdown",
   "metadata": {},
   "source": [
    "可以考虑编写代码来构造请求，读取上面的信息"
   ]
  },
  {
   "cell_type": "code",
   "execution_count": 19,
   "metadata": {},
   "outputs": [],
   "source": [
    "import requests"
   ]
  },
  {
   "cell_type": "code",
   "execution_count": 4,
   "metadata": {},
   "outputs": [],
   "source": [
    "# 请求参数\n",
    "qs = {\"sort\":[\"s\",\"r\",\"t\"],\n",
    "      \"range\":[\"0\",\"1\",\"2\",\"3\",\"4\",\"5\",\"6\",\"7\",\"8\",\"9\",\"10\"],\n",
    "      \"tags\":[],\n",
    "      \"start\":[\"0\"]}"
   ]
  },
  {
   "cell_type": "code",
   "execution_count": 12,
   "metadata": {},
   "outputs": [],
   "source": [
    "# 利用参数构建url\n",
    "url = \" https://movie.douban.com/j/new_search_subjects?sort=%s&range=%s,%s&tags=%%E7%%94%%B5%%E8%%A7%%86%%E5%%89%%A7&start=%s\" % (qs[\"sort\"][0], qs[\"range\"][0],qs[\"range\"][10],qs[\"start\"][0])"
   ]
  },
  {
   "cell_type": "code",
   "execution_count": 13,
   "metadata": {},
   "outputs": [],
   "source": [
    "r = requests.get(url)"
   ]
  },
  {
   "cell_type": "code",
   "execution_count": 27,
   "metadata": {},
   "outputs": [],
   "source": [
    "# 获取json数据\n",
    "result = r.json()"
   ]
  },
  {
   "cell_type": "code",
   "execution_count": 28,
   "metadata": {},
   "outputs": [
    {
     "data": {
      "text/plain": [
       "{'casts': ['戴维·阿滕伯勒'],\n",
       " 'cover': 'https://img1.doubanio.com/view/photo/s_ratio_poster/public/p2518413249.jpg',\n",
       " 'cover_x': 1530,\n",
       " 'cover_y': 2176,\n",
       " 'directors': ['詹姆斯·霍尼伯内'],\n",
       " 'id': '26979545',\n",
       " 'rate': '9.9',\n",
       " 'star': '50',\n",
       " 'title': '蓝色星球2',\n",
       " 'url': 'https://movie.douban.com/subject/26979545/'}"
      ]
     },
     "execution_count": 28,
     "metadata": {},
     "output_type": "execute_result"
    }
   ],
   "source": [
    "result[\"data\"][0]"
   ]
  },
  {
   "cell_type": "markdown",
   "metadata": {},
   "source": [
    "可以看到，这个就是排名第一的电视剧的详细内容，可以考虑将其写入表格或文本中，这样，我们便得到了爬取豆瓣电视剧的方法，可以根据结果中电视剧的URL来进一步提取电视剧的相关内容"
   ]
  },
  {
   "cell_type": "code",
   "execution_count": null,
   "metadata": {},
   "outputs": [],
   "source": [
    "   "
   ]
  }
 ],
 "metadata": {
  "kernelspec": {
   "display_name": "Python 3",
   "language": "python",
   "name": "python3"
  },
  "language_info": {
   "codemirror_mode": {
    "name": "ipython",
    "version": 3
   },
   "file_extension": ".py",
   "mimetype": "text/x-python",
   "name": "python",
   "nbconvert_exporter": "python",
   "pygments_lexer": "ipython3",
   "version": "3.5.4"
  }
 },
 "nbformat": 4,
 "nbformat_minor": 2
}
